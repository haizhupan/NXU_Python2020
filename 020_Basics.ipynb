{
 "cells": [
  {
   "cell_type": "markdown",
   "metadata": {},
   "source": [
    "# 1. 数据类型和变量"
   ]
  },
  {
   "cell_type": "markdown",
   "metadata": {},
   "source": [
    "## 1.1 数字（Number）"
   ]
  },
  {
   "cell_type": "markdown",
   "metadata": {},
   "source": [
    "Python支持四种不同的数字类型：\n",
    "- 整型(Int) - 通常被称为是整型或整数，是正或负整数，不带小数点。\n",
    "- 长整型(long integers) - 无限大小的整数，整数最后是一个大写或小写的L。\n",
    "- 浮点型(floating point real values) - 浮点型由整数部分与小数部分组成，浮点型也可以使用科学计数法表示（2.5e2 = 2.5 x 102 = 250）\n",
    "- 复数(complex numbers) - 复数由实数部分和虚数部分构成，可以用a + bj,或者complex(a,b)表示， 复数的实部a和虚部b都是浮点型。\n",
    "\n",
    "变量赋值时 Number 对象将被创建："
   ]
  },
  {
   "cell_type": "code",
   "execution_count": 1,
   "metadata": {},
   "outputs": [],
   "source": [
    "var1 = 1\n",
    "var2 = 10"
   ]
  },
  {
   "cell_type": "markdown",
   "metadata": {},
   "source": [
    "del语句删除一些 Number 对象引用"
   ]
  },
  {
   "cell_type": "code",
   "execution_count": null,
   "metadata": {},
   "outputs": [],
   "source": [
    "del var1, var2"
   ]
  },
  {
   "cell_type": "markdown",
   "metadata": {},
   "source": [
    "### Number类型转换"
   ]
  },
  {
   "cell_type": "markdown",
   "metadata": {},
   "source": [
    "int(x [,base ])         将x转换为一个整数  \n",
    "long(x [,base ])        将x转换为一个长整数  \n",
    "float(x )               将x转换到一个浮点数  \n",
    "complex(real [,imag ])  创建一个复数  \n",
    "str(x )                 将对象 x 转换为字符串  \n",
    "repr(x )                将对象 x 转换为表达式字符串  \n",
    "eval(str )              用来计算在字符串中的有效Python表达式,并返回一个对象  \n",
    "tuple(s )               将序列 s 转换为一个元组  \n",
    "list(s )                将序列 s 转换为一个列表  \n",
    "chr(x )                 将一个整数转换为一个字符  \n",
    "unichr(x )              将一个整数转换为Unicode字符  \n",
    "ord(x )                 将一个字符转换为它的整数值  \n",
    "hex(x )                 将一个整数转换为一个十六进制字符串  \n",
    "oct(x )                 将一个整数转换为一个八进制字符串  "
   ]
  },
  {
   "cell_type": "markdown",
   "metadata": {},
   "source": [
    "### math 模块、cmath 模块\n",
    "Python 中数学运算常用的函数基本都在 math 模块、cmath 模块中。\n",
    "\n",
    "Python math 模块提供了许多对浮点数的数学运算函数。\n",
    "\n",
    "Python cmath 模块包含了一些用于复数运算的函数。\n",
    "\n",
    "cmath 模块的函数跟 math 模块函数基本一致，区别是 cmath 模块运算的是复数，math 模块运算的是数学运算。"
   ]
  },
  {
   "cell_type": "code",
   "execution_count": 5,
   "metadata": {},
   "outputs": [
    {
     "data": {
      "text/plain": [
       "['__doc__',\n",
       " '__loader__',\n",
       " '__name__',\n",
       " '__package__',\n",
       " '__spec__',\n",
       " 'acos',\n",
       " 'acosh',\n",
       " 'asin',\n",
       " 'asinh',\n",
       " 'atan',\n",
       " 'atan2',\n",
       " 'atanh',\n",
       " 'ceil',\n",
       " 'copysign',\n",
       " 'cos',\n",
       " 'cosh',\n",
       " 'degrees',\n",
       " 'e',\n",
       " 'erf',\n",
       " 'erfc',\n",
       " 'exp',\n",
       " 'expm1',\n",
       " 'fabs',\n",
       " 'factorial',\n",
       " 'floor',\n",
       " 'fmod',\n",
       " 'frexp',\n",
       " 'fsum',\n",
       " 'gamma',\n",
       " 'gcd',\n",
       " 'hypot',\n",
       " 'inf',\n",
       " 'isclose',\n",
       " 'isfinite',\n",
       " 'isinf',\n",
       " 'isnan',\n",
       " 'ldexp',\n",
       " 'lgamma',\n",
       " 'log',\n",
       " 'log10',\n",
       " 'log1p',\n",
       " 'log2',\n",
       " 'modf',\n",
       " 'nan',\n",
       " 'pi',\n",
       " 'pow',\n",
       " 'radians',\n",
       " 'remainder',\n",
       " 'sin',\n",
       " 'sinh',\n",
       " 'sqrt',\n",
       " 'tan',\n",
       " 'tanh',\n",
       " 'tau',\n",
       " 'trunc']"
      ]
     },
     "execution_count": 5,
     "metadata": {},
     "output_type": "execute_result"
    }
   ],
   "source": [
    "import math\n",
    ">>> dir(math)"
   ]
  },
  {
   "cell_type": "code",
   "execution_count": 6,
   "metadata": {},
   "outputs": [
    {
     "data": {
      "text/plain": [
       "(2+0j)"
      ]
     },
     "execution_count": 6,
     "metadata": {},
     "output_type": "execute_result"
    }
   ],
   "source": [
    "import cmath\n",
    "cmath.sqrt(-1)\n",
    "cmath.sqrt(9)\n",
    "cmath.sin(1)\n",
    "cmath.log10(100)"
   ]
  },
  {
   "cell_type": "markdown",
   "metadata": {},
   "source": [
    "### 数学函数、随机函数、三角函数\n",
    "- abs(x)\t返回数字的绝对值，如abs(-10) 返回 10\n",
    "- ceil(x)\t返回数字的上入整数，如math.ceil(4.1) 返回 5\n",
    "- cmp(x, y)\t如果 x < y 返回 -1, 如果 x == y 返回 0, 如果 x > y 返回 1\n",
    "- exp(x)\t返回e的x次幂(ex),如math.exp(1) 返回2.718281828459045\n",
    "- fabs(x)\t返回数字的绝对值，如math.fabs(-10) 返回10.0\n",
    "- floor(x)\t返回数字的下舍整数，如math.floor(4.9)返回 4\n",
    "- log(x)\t如math.log(math.e)返回1.0,math.log(100,10)返回2.0\n",
    "- log10(x)\t返回以10为基数的x的对数，如math.log10(100)返回 2.0\n",
    "- max(x1, x2,...)\t返回给定参数的最大值，参数可以为序列。\n",
    "- min(x1, x2,...)\t返回给定参数的最小值，参数可以为序列。\n",
    "- modf(x)\t返回x的整数部分与小数部分，两部分的数值符号与x相同，整数部分以浮点型表示。\n",
    "- pow(x, y)\tx**y 运算后的值。\n",
    "- round(x [,n])\t返回浮点数x的四舍五入值，如给出n值，则代表舍入到小数点后的位数。\n",
    "- sqrt(x)\t返回数字x的平方根\n",
    "- ......."
   ]
  },
  {
   "cell_type": "markdown",
   "metadata": {},
   "source": [
    "### 数学常量\n",
    "pi\t数学常量 pi（圆周率，一般以π来表示）\n",
    "\n",
    "e\t数学常量 e，e即自然常数（自然常数）。"
   ]
  },
  {
   "cell_type": "markdown",
   "metadata": {},
   "source": [
    "### 布尔值"
   ]
  },
  {
   "cell_type": "markdown",
   "metadata": {},
   "source": [
    "一个布尔值只有 True 、 False 两种值，要么是 True，要么是 False，在 Python 中，可以直接用 True、False 表示布尔值（请注意大小写），也可以通过布尔运算计算出来。\n",
    "\n",
    "布尔值可以用 and、or 和 not 运算。\n",
    "\n",
    "and 运算是与运算，只有所有都为 True，and 运算结果才是 True。\n",
    "\n",
    "or 运算是或运算，只要其中有一个为 True，or 运算结果就是 True。\n",
    "\n",
    "not 运算是非运算，它是一个单目运算符，把 True 变成 False，False 变成 True。"
   ]
  },
  {
   "cell_type": "markdown",
   "metadata": {},
   "source": [
    "### 空值"
   ]
  },
  {
   "cell_type": "code",
   "execution_count": 7,
   "metadata": {},
   "outputs": [],
   "source": [
    "None"
   ]
  },
  {
   "cell_type": "markdown",
   "metadata": {},
   "source": [
    "## 1.2 字符（String）\n",
    "创建字符串很简单，只要为变量分配一个值即可"
   ]
  },
  {
   "cell_type": "code",
   "execution_count": 8,
   "metadata": {},
   "outputs": [],
   "source": [
    "var1 = 'Hello World!'\n",
    "var2 = \"Python Runoob\""
   ]
  },
  {
   "cell_type": "markdown",
   "metadata": {},
   "source": [
    "### 访问字符串"
   ]
  },
  {
   "cell_type": "code",
   "execution_count": 10,
   "metadata": {},
   "outputs": [
    {
     "name": "stdout",
     "output_type": "stream",
     "text": [
      "var1[0]:  H\n",
      "var2[1:5]:  ytho\n"
     ]
    }
   ],
   "source": [
    "print(\"var1[0]: \", var1[0])\n",
    "print(\"var2[1:5]: \", var2[1:5])"
   ]
  },
  {
   "cell_type": "markdown",
   "metadata": {},
   "source": [
    "### 字符串连接"
   ]
  },
  {
   "cell_type": "code",
   "execution_count": 12,
   "metadata": {},
   "outputs": [
    {
     "name": "stdout",
     "output_type": "stream",
     "text": [
      "输出 :-  Hello Runoob!\n"
     ]
    }
   ],
   "source": [
    "# -*- coding: UTF-8 -*- \n",
    "var1 = 'Hello World!'\n",
    "print( \"输出 :- \", var1[:6] + 'Runoob!')"
   ]
  },
  {
   "cell_type": "markdown",
   "metadata": {},
   "source": [
    "### 转义字符\n",
    "在需要在字符中使用特殊字符时，python 用反斜杠 \\ 转义字符。\n",
    "- \\(在行尾时)\t续行符\n",
    "- \\\\\t反斜杠符号\n",
    "-  \\'\t单引号\n",
    "- \\\"\t双引号\n",
    "- \\a\t响铃\n",
    "- \\b\t退格(Backspace)\n",
    "- \\e\t转义\n",
    "- \\000\t空\n",
    "- \\n\t换行\n",
    "- \\v\t纵向制表符\n",
    "- \\t\t横向制表符\n",
    "- \\r\t回车\n",
    "- \\f\t换页\n",
    "- \\oyy\t八进制数，yy代表的字符，例如：\\o12代表换行\n",
    "- \\xyy\t十六进制数，yy代表的字符，例如：\\x0a代表换行\n",
    "- \\other\t其它的字符以普通格式输出"
   ]
  },
  {
   "cell_type": "markdown",
   "metadata": {},
   "source": [
    "### 字符串运算"
   ]
  },
  {
   "cell_type": "code",
   "execution_count": 16,
   "metadata": {},
   "outputs": [
    {
     "name": "stdout",
     "output_type": "stream",
     "text": [
      "a + b 输出结果： HelloPython\n",
      "a * 2 输出结果： HelloHello\n",
      "a[1] 输出结果： e\n",
      "a[1:4] 输出结果： ell\n",
      "H 不在变量 a 中\n",
      "M 不在变量 a 中\n",
      "\\n\n",
      "\\n\n"
     ]
    }
   ],
   "source": [
    "a = \"Hello\"\n",
    "b = \"Python\"\n",
    " \n",
    "print(\"a + b 输出结果：\", a + b)\n",
    "print(\"a * 2 输出结果：\", a * 2 )\n",
    "print(\"a[1] 输出结果：\", a[1] )\n",
    "print(\"a[1:4] 输出结果：\", a[1:4] )\n",
    " \n",
    "if( \"H\" in a) :\n",
    "    print(\"H 不在变量 a 中\")\n",
    "else :\n",
    "    print(\"H 不在变量 a 中\")\n",
    "  \n",
    "if( \"M\" not in a) :\n",
    "    print(\"M 不在变量 a 中\" )\n",
    "else :\n",
    "    print(\"M 在变量 a 中\")\n",
    "\n",
    "print(r'\\n')\n",
    "print(R'\\n')"
   ]
  },
  {
   "cell_type": "markdown",
   "metadata": {},
   "source": [
    "### 字符串格式化\n",
    "Python 支持格式化字符串的输出 。尽管这样可能会用到非常复杂的表达式，但最基本的用法是将一个值插入到一个有字符串格式符 %s 的字符串中。"
   ]
  },
  {
   "cell_type": "code",
   "execution_count": 17,
   "metadata": {},
   "outputs": [
    {
     "name": "stdout",
     "output_type": "stream",
     "text": [
      "My name is Zara and weight is 21 kg!\n"
     ]
    }
   ],
   "source": [
    "print(\"My name is %s and weight is %d kg!\" % ('Zara', 21))"
   ]
  },
  {
   "cell_type": "markdown",
   "metadata": {},
   "source": [
    "### 三引号\n",
    "Python 中三引号可以将复杂的字符串进行赋值。\n",
    "\n",
    "Python 三引号允许一个字符串跨多行，字符串中可以包含换行符、制表符以及其他特殊字符。\n",
    "\n",
    "三引号的语法是一对连续的单引号或者双引号（通常都是成对的用）。"
   ]
  },
  {
   "cell_type": "code",
   "execution_count": 19,
   "metadata": {},
   "outputs": [
    {
     "name": "stdout",
     "output_type": "stream",
     "text": [
      "hi \n",
      "there\n"
     ]
    }
   ],
   "source": [
    "hi = '''hi \n",
    "there'''\n",
    "print(hi)  # str()"
   ]
  },
  {
   "cell_type": "markdown",
   "metadata": {},
   "source": [
    "## 1.3 列表[List]\n",
    "List （列表）是 Python 内置的一种数据类型。 它是一种有序的集合，可以随时添加和删除其中的元素。通过方括号定义"
   ]
  },
  {
   "cell_type": "markdown",
   "metadata": {},
   "source": [
    "### List 运算符\n",
    "列表对 `+`  和 `*`  的操作符与字符串相似。`+` 号用于组合列表，`*`  号用于重复列表。\n",
    "\n",
    "|Python 表达式|结果|描述|\n",
    "|-----------|-----|-----|\n",
    "|len([1, 2, 3])|3|计算元素个数|\n",
    "|[1, 2, 3] + [4, 5, 6]|\t[1, 2, 3, 4, 5, 6]|\t组合|\n",
    "|['Hi!'] * 4|['Hi!', 'Hi!', 'Hi!', 'Hi!']|复制|\n",
    "|3 in [1, 2, 3]|True|元素是否存在于列表中|\n",
    "|for x in [1, 2, 3]: print x,|1 2 3|迭代|"
   ]
  },
  {
   "cell_type": "markdown",
   "metadata": {},
   "source": [
    "### List 函数&方法\n",
    "\n",
    "|函数&方法|描述|\n",
    "|----|----|\n",
    "|len(list)|列表元素个数|\n",
    "|max(list)|返回列表元素最大值|\n",
    "|min(list)|返回列表元素最小值|\n",
    "|list(seq)|将元组转换为列表|\n",
    "|list.append(obj)|在列表末尾添加新的对象|\n",
    "|list.count(obj)|统计某个元素在列表中出现的次数|\n",
    "|list.extend(seq)|在列表末尾一次性追加另一个序列中的多个值（用新列表扩展原来的列表）|\n",
    "|list.index(obj)|从列表中找出某个值第一个匹配项的索引位置|\n",
    "|list.insert(index, obj)|将对象插入列表|\n",
    "|list.pop(obj=list[-1])|移除列表中的一个元素（默认最后一个元素），并且返回该元素的值|\n",
    "|list.remove(obj)|移除列表中的一个元素（参数是列表中元素），并且不返回任何值|\n",
    "|list.reverse()|反向列表中元素|\n",
    "|list.sort([func])|对原列表进行排序|"
   ]
  },
  {
   "cell_type": "code",
   "execution_count": 20,
   "metadata": {},
   "outputs": [
    {
     "data": {
      "text/plain": [
       "'sdfs'"
      ]
     },
     "execution_count": 20,
     "metadata": {},
     "output_type": "execute_result"
    }
   ],
   "source": [
    "classmate = ['sdfs','kkk','jjj']\n",
    "classmate\n",
    "len(classmate)\n",
    "#索引从0开始\n",
    "classmate[0]"
   ]
  },
  {
   "cell_type": "code",
   "execution_count": 21,
   "metadata": {},
   "outputs": [
    {
     "data": {
      "text/plain": [
       "'jjj'"
      ]
     },
     "execution_count": 21,
     "metadata": {},
     "output_type": "execute_result"
    }
   ],
   "source": [
    "#可以通过负数反向索引，这里-1表示最后一个元素\n",
    "classmate[-1]"
   ]
  },
  {
   "cell_type": "code",
   "execution_count": 22,
   "metadata": {},
   "outputs": [
    {
     "name": "stdout",
     "output_type": "stream",
     "text": [
      "['sdfs', 'kkk', 'insert2', 'jjj', 'Apend1']\n",
      "['sdfs', 'kkk', 'insert2', 'jjj']\n",
      "['sdfs', 'kkk', 'insert2']\n",
      "['sdfs', 'kkk', 'lvlv']\n"
     ]
    }
   ],
   "source": [
    "#通过append向list尾部添加元素\n",
    "classmate.append('Apend1')\n",
    "#插入index为2的位置\n",
    "classmate.insert(2,'insert2')\n",
    "print(classmate)\n",
    "#使用pop()删除尾部元素\n",
    "classmate.pop()\n",
    "print(classmate)\n",
    "#使用pop(i)删除指定位置的元素\n",
    "classmate.pop(-1)\n",
    "print(classmate)\n",
    "#替换元素直接对对应位置赋值\n",
    "classmate[-1] = 'lvlv'\n",
    "print(classmate)"
   ]
  },
  {
   "cell_type": "markdown",
   "metadata": {},
   "source": [
    "## 1.4 元组（tuple）\n",
    "另一种有序列表，一旦初始化好之后无法更改，通过圆括号定义\n",
    "无法更改意味着代码更安全，能用tuple替代list就尽量替代"
   ]
  },
  {
   "cell_type": "code",
   "execution_count": 23,
   "metadata": {},
   "outputs": [
    {
     "data": {
      "text/plain": [
       "'ccc'"
      ]
     },
     "execution_count": 23,
     "metadata": {},
     "output_type": "execute_result"
    }
   ],
   "source": [
    "classmetas = ('aaa','bbb','ccc')\n",
    "#可以通过索引获取元素\n",
    "classmetas[-1]"
   ]
  },
  {
   "cell_type": "code",
   "execution_count": 24,
   "metadata": {},
   "outputs": [
    {
     "name": "stdout",
     "output_type": "stream",
     "text": [
      "(1,) 1\n"
     ]
    }
   ],
   "source": [
    "#仅有一个元素的tuple需要在第一个元素后添加‘,’区分数学中的小括号和元组\n",
    "a = (1,)\n",
    "b =(1) \n",
    "print(a,b)"
   ]
  },
  {
   "cell_type": "code",
   "execution_count": 25,
   "metadata": {},
   "outputs": [
    {
     "name": "stdout",
     "output_type": "stream",
     "text": [
      "('a', 'b', 'c', ['123', '321', 'qwe'])\n",
      "('a', 'b', 'c', ['123', '666', 'qwe'])\n"
     ]
    }
   ],
   "source": [
    "#元组的不可修改是指元组的指向不可修改并非是指向的的元素也无法修改，如元组中的元素有一个为list，list可以修改，但无法修改指向至别的list...\n",
    "t = ('a','b','c',['123','321','qwe'])\n",
    "print(t)\n",
    "t[3][1] = '666'\n",
    "print(t)"
   ]
  },
  {
   "cell_type": "code",
   "execution_count": 26,
   "metadata": {},
   "outputs": [
    {
     "name": "stdout",
     "output_type": "stream",
     "text": [
      "5\n",
      "('一点水', '两点水', '三点水', '四点水', '五点水', '1点水', '2点水', '3点水', '4点水', '5点水')\n",
      "('一点水', '两点水', '三点水', '四点水', '五点水', '一点水', '两点水', '三点水', '四点水', '五点水')\n",
      "True\n",
      "5点水\n",
      "1点水\n",
      "(1, 2, 3, 4, 5)\n"
     ]
    }
   ],
   "source": [
    "name1 = ('一点水', '两点水', '三点水', '四点水', '五点水')\n",
    "\n",
    "name2 = ('1点水', '2点水', '3点水', '4点水', '5点水')\n",
    "\n",
    "list1 = [1, 2, 3, 4, 5]\n",
    "\n",
    "# 计算元素个数\n",
    "print(len(name1))\n",
    "# 连接,两个元组相加\n",
    "print(name1 + name2)\n",
    "# 复制元组\n",
    "print(name1 * 2)\n",
    "# 元素是否存在 (name1 这个元组中是否含有一点水这个元素)\n",
    "print('一点水' in name1)\n",
    "# 元素的最大值\n",
    "print(max(name2))\n",
    "# 元素的最小值\n",
    "print(min(name2))\n",
    "# 将列表转换为元组\n",
    "print(tuple(list1))"
   ]
  },
  {
   "cell_type": "markdown",
   "metadata": {},
   "source": [
    "## 1.5 字典{dict}"
   ]
  },
  {
   "cell_type": "markdown",
   "metadata": {},
   "source": [
    "字典是另一种可变容器模型，且可存储任意类型对象。\n",
    "\n",
    "字典的每个键值 key=>value 对用冒号 : 分割，每个键值对之间用逗号 , 分割，整个字典包括在花括号 {} 中 \n",
    "\n",
    "键一般是唯一的，如果重复最后的一个键值对会替换前面的，值不需要唯一。\n",
    "\n",
    "值可以取任何数据类型，但键必须是不可变的，如字符串，数字或元组。"
   ]
  },
  {
   "cell_type": "code",
   "execution_count": 28,
   "metadata": {},
   "outputs": [
    {
     "data": {
      "text/plain": [
       "'2341'"
      ]
     },
     "execution_count": 28,
     "metadata": {},
     "output_type": "execute_result"
    }
   ],
   "source": [
    "dict = {'Alice': '2341', 'Beth': '9102', 'Cecil': '3258'}\n",
    "dict['Alice']"
   ]
  },
  {
   "cell_type": "code",
   "execution_count": 30,
   "metadata": {},
   "outputs": [
    {
     "name": "stdout",
     "output_type": "stream",
     "text": [
      "dict['Age']:  8\n",
      "dict['School']:  RUNOOB\n"
     ]
    }
   ],
   "source": [
    "dict = {'Name': 'Zara', 'Age': 7, 'Class': 'First'}\n",
    " \n",
    "dict['Age'] = 8 # 更新\n",
    "dict['School'] = \"RUNOOB\" # 添加\n",
    "\n",
    "print( \"dict['Age']: \", dict['Age'])\n",
    "print(\"dict['School']: \", dict['School'])"
   ]
  },
  {
   "cell_type": "markdown",
   "metadata": {},
   "source": [
    "dict 内部存放的顺序和 key 放入的顺序是没有任何关系\n",
    "\n",
    "和 list 比较，dict 有以下几个特点：\n",
    "\n",
    "- 查找和插入的速度极快，不会随着key的增加而变慢\n",
    "- 需要占用大量的内存，内存浪费多\n",
    "\n",
    "而list相反：\n",
    "- 查找和插入的时间随着元素的增加而增加\n",
    "- 占用空间小，浪费内存很少"
   ]
  },
  {
   "cell_type": "markdown",
   "metadata": {},
   "source": [
    "# 2. 运算符"
   ]
  },
  {
   "cell_type": "markdown",
   "metadata": {},
   "source": [
    "## 2.1 算数运算符"
   ]
  },
  {
   "cell_type": "markdown",
   "metadata": {},
   "source": [
    "- \\+\t加 - 两个对象相加\n",
    "- \\-\t减 - 得到负数或是一个数减去另一个数\n",
    "- \\*\t乘 - 两个数相乘或是返回一个被重复若干次的字符串\n",
    "- /\t除 - x除以y\n",
    "- %\t取模 - 返回除法的余数\n",
    "- **\t幂 - 返回x的y次幂\n",
    "- //\t取整除 - 返回商的整数部分（向下取整）"
   ]
  },
  {
   "cell_type": "markdown",
   "metadata": {},
   "source": [
    "## 2.2 比较运算符"
   ]
  },
  {
   "cell_type": "markdown",
   "metadata": {},
   "source": [
    "- ==\t等于 - 比较对象是否相等\n",
    "- !=\t不等于 - 比较两个对象是否不相等 \n",
    "- \\>\t大于 - 返回x是否大于y\n",
    "- \\<\t小于 - 返回x是否小于y。所有比较运算符返回1表示真，返回0表示假。这分别与特殊的变量True和False等价。\n",
    "- \\>=\t大于等于 - 返回x是否大于等于y。\n",
    "- <=\t小于等于 - 返回x是否小于等于y。"
   ]
  },
  {
   "cell_type": "markdown",
   "metadata": {},
   "source": [
    "## 2.3 逻辑运算符"
   ]
  },
  {
   "cell_type": "markdown",
   "metadata": {},
   "source": [
    "- and\tx and y\t布尔\"与\" - 如果 x 为 False，x and y 返回 False，否则它返回 y 的计算值。\n",
    "- or\tx or y\t布尔\"或\" - 如果 x 是非 0，它返回 x 的值，否则它返回 y 的计算值。\n",
    "- not\tnot x\t布尔\"非\" - 如果 x 为 True，返回 False 。如果 x 为 False，它返回 True。"
   ]
  },
  {
   "cell_type": "code",
   "execution_count": null,
   "metadata": {},
   "outputs": [],
   "source": []
  },
  {
   "attachments": {
    "image.png": {
     "image/png": "[encoded data removed]"
    }
   },
   "cell_type": "markdown",
   "metadata": {},
   "source": [
    "# 3. 条件和循环语句\n",
    "![image.png](attachment:image.png)"
   ]
  },
  {
   "cell_type": "markdown",
   "metadata": {},
   "source": [
    "## 3.1 if条件语句"
   ]
  },
  {
   "attachments": {
    "image.png": {
     "image/png": "[encoded data removed]"
    }
   },
   "cell_type": "markdown",
   "metadata": {},
   "source": [
    "Python 条件语句跟其他语言基本一致的，都是通过一条或多条语句的执行结果（ True 或者 False ）来决定执行的代码块。\n",
    "\n",
    "Python 程序语言指定任何非 0 和非空（null）值为 True，0 或者 null 为 False。\n",
    "\n",
    "执行的流程图如下：\n",
    "![image.png](attachment:image.png)"
   ]
  },
  {
   "cell_type": "markdown",
   "metadata": {},
   "source": [
    "### 基本形式\n",
    "```python\n",
    "if 判断条件：\n",
    "    执行语句……\n",
    "else：\n",
    "    执行语句……\n",
    "```"
   ]
  },
  {
   "cell_type": "markdown",
   "metadata": {},
   "source": [
    "if 语句的判断条件可以用>（大于）、<(小于)、==（等于）、>=（大于等于）、<=（小于等于）来表示其关系。"
   ]
  },
  {
   "cell_type": "code",
   "execution_count": 2,
   "metadata": {},
   "outputs": [
    {
     "name": "stdout",
     "output_type": "stream",
     "text": [
      "不及格\n"
     ]
    }
   ],
   "source": [
    "results=59\n",
    "\n",
    "if results>=60:\n",
    "    print ('及格')\n",
    "else :\n",
    "    print ('不及格')"
   ]
  },
  {
   "cell_type": "markdown",
   "metadata": {},
   "source": [
    "之前提到过，Python 语言有着严格的缩进要求，因此这里也需要注意缩进，也不要少写了冒号 :"
   ]
  },
  {
   "cell_type": "markdown",
   "metadata": {},
   "source": [
    "非零数值、非空字符串、非空 list 等，判断为 True，否则为 False。因此也可以这样写"
   ]
  },
  {
   "cell_type": "code",
   "execution_count": 3,
   "metadata": {},
   "outputs": [
    {
     "name": "stdout",
     "output_type": "stream",
     "text": [
      "Hello Python\n"
     ]
    }
   ],
   "source": [
    "num = 6\n",
    "if num :\n",
    "    print('Hello Python')"
   ]
  },
  {
   "cell_type": "markdown",
   "metadata": {},
   "source": [
    "### 多个判断条件形式"
   ]
  },
  {
   "cell_type": "markdown",
   "metadata": {},
   "source": [
    "有些时候，我们的判断语句不可能只有两个，有些时候需要多个，比如上面的例子中大于 60 的为及格，那我们还要判断大于 90 的为优秀，在 80 到 90 之间的良好呢？  这时候需要用到 if 语句多个判断条件。"
   ]
  },
  {
   "cell_type": "markdown",
   "metadata": {},
   "source": [
    "```python\n",
    "if 判断条件1:\n",
    "    执行语句1……\n",
    "elif 判断条件2:\n",
    "    执行语句2……\n",
    "elif 判断条件3:\n",
    "    执行语句3……\n",
    "else:\n",
    "    执行语句4……\n",
    "```"
   ]
  },
  {
   "cell_type": "code",
   "execution_count": 4,
   "metadata": {},
   "outputs": [
    {
     "name": "stdout",
     "output_type": "stream",
     "text": [
      "良好\n"
     ]
    }
   ],
   "source": [
    "results = 89\n",
    "\n",
    "if results > 90:\n",
    "    print('优秀')\n",
    "elif results > 80:\n",
    "    print('良好')\n",
    "elif results > 60:\n",
    "    print ('及格')\n",
    "else :\n",
    "    print ('不及格')"
   ]
  },
  {
   "cell_type": "markdown",
   "metadata": {},
   "source": [
    "### 多个条件同时判断\n",
    "比如说要求 java 和 python 的考试成绩要大于 80 分的时候才算优秀，这时候该怎么做？\n",
    "\n",
    "这时候我们可以结合 or 和 and 来使用。\n",
    "- or （或）表示两个条件有一个成立时判断条件成功\n",
    "- and （与）表示只有两个条件同时成立的情况下，判断条件才成功。"
   ]
  },
  {
   "cell_type": "code",
   "execution_count": 5,
   "metadata": {},
   "outputs": [
    {
     "name": "stdout",
     "output_type": "stream",
     "text": [
      "不优秀\n",
      "良好\n"
     ]
    }
   ],
   "source": [
    "java = 86\n",
    "python = 68\n",
    "\n",
    "if java > 80 and  python > 80:\n",
    "    print('优秀')\n",
    "else :\n",
    "    print('不优秀')\n",
    "\n",
    "if ( java >= 80  and java < 90 )  or ( python >= 80 and python < 90):\n",
    "    print('良好')"
   ]
  },
  {
   "cell_type": "markdown",
   "metadata": {},
   "source": [
    "注意：if 有多个条件时可使用括号来区分判断的先后顺序，括号中的判断优先执行，此外 and 和 or 的优先级低于 >（大于）、<（小于）等判断符号，即大于和小于在没有括号的情况下会比与或要优先判断。"
   ]
  },
  {
   "cell_type": "markdown",
   "metadata": {},
   "source": [
    "### if嵌套\n",
    "if 语句中可以嵌套 if 语句。"
   ]
  },
  {
   "cell_type": "code",
   "execution_count": 6,
   "metadata": {},
   "outputs": [
    {
     "name": "stdout",
     "output_type": "stream",
     "text": [
      "不优秀\n"
     ]
    }
   ],
   "source": [
    "java = 86\n",
    "python = 68\n",
    "\n",
    "if java > 80:\n",
    "    if python > 80:\n",
    "        print('优秀')\n",
    "    else:\n",
    "        print('不优秀')\n",
    "else:\n",
    "    print('不优秀')"
   ]
  },
  {
   "cell_type": "markdown",
   "metadata": {},
   "source": [
    "不太建议这样使用 if 嵌套的，因为这样代码量多了，而且嵌套太多，也不方便阅读代码。"
   ]
  },
  {
   "attachments": {
    "image.png": {
     "image/png": "[encoded data removed]"
    }
   },
   "cell_type": "markdown",
   "metadata": {},
   "source": [
    "## 3.2 循环语句\n",
    "循环语句允许我们执行一个语句或语句组多次。\n",
    "![image.png](attachment:image.png)"
   ]
  },
  {
   "cell_type": "markdown",
   "metadata": {},
   "source": [
    "### for循环"
   ]
  },
  {
   "cell_type": "code",
   "execution_count": 7,
   "metadata": {},
   "outputs": [
    {
     "name": "stdout",
     "output_type": "stream",
     "text": [
      "H\n",
      "e\n",
      "l\n",
      "l\n",
      "o\n",
      " \n",
      "两\n",
      "点\n",
      "水\n"
     ]
    }
   ],
   "source": [
    "for letter in 'Hello 两点水':\n",
    "    print(letter)"
   ]
  },
  {
   "cell_type": "code",
   "execution_count": 9,
   "metadata": {},
   "outputs": [
    {
     "name": "stdout",
     "output_type": "stream",
     "text": [
      "一 小学生\n",
      "二 初中生\n",
      "三 高中生\n"
     ]
    }
   ],
   "source": [
    "dict0 = {'一':'小学生','二':'初中生','三':'高中生'}\n",
    "for i in dict0:\n",
    "    print(i,dict0[i])"
   ]
  },
  {
   "cell_type": "markdown",
   "metadata": {},
   "source": [
    "for 循环还常常和 range() 函数搭配使用的。"
   ]
  },
  {
   "cell_type": "code",
   "execution_count": 10,
   "metadata": {},
   "outputs": [
    {
     "name": "stdout",
     "output_type": "stream",
     "text": [
      "0\n",
      "1\n",
      "2\n"
     ]
    }
   ],
   "source": [
    "for i in range(3):\n",
    "    print(i)"
   ]
  },
  {
   "cell_type": "markdown",
   "metadata": {},
   "source": [
    "使用 range(x) 函数，就可以生成一个从 0 到 x-1 的整数序列。\n",
    "- range(3) 就是 0 ，1，2 ，每次递增 1 。\n",
    "- range(3,6) 就是 3 ，4 ，5 ，也是每次递增 1 的。\n",
    "- range(0,10,2) , 它的意思是：从 0 数到 10（不取 10 ），每次间隔为 2 。"
   ]
  },
  {
   "cell_type": "markdown",
   "metadata": {},
   "source": [
    "### while循环\n",
    "while循环和for循环的作用是一样的。"
   ]
  },
  {
   "cell_type": "code",
   "execution_count": 11,
   "metadata": {},
   "outputs": [
    {
     "name": "stdout",
     "output_type": "stream",
     "text": [
      "5050\n"
     ]
    }
   ],
   "source": [
    "count = 1\n",
    "sum1 = 0\n",
    "while count<= 100:\n",
    "    sum1 = sum1+count\n",
    "    count = count+1\n",
    "print(sum1)"
   ]
  },
  {
   "cell_type": "markdown",
   "metadata": {},
   "source": [
    "那什么时候才使用 for 循环和 while 循环呢？\n",
    "- for 循环主要用在迭代可迭代对象的情况。\n",
    "- while 循环主要用在需要满足一定条件为真，反复执行的情况。 （死循环+break 退出等情况。）\n",
    "- 部分情况下，for 循环和 while 循环可以互换使用。"
   ]
  },
  {
   "cell_type": "markdown",
   "metadata": {},
   "source": [
    "### 嵌套循环\n",
    "循环语句和条件语句一样，都是可以嵌套的。"
   ]
  },
  {
   "cell_type": "markdown",
   "metadata": {},
   "source": [
    "#### for 循环嵌套语法"
   ]
  },
  {
   "cell_type": "markdown",
   "metadata": {},
   "source": [
    "```python\n",
    "for iterating_var in sequence:\n",
    "   for iterating_var in sequence:\n",
    "      statements(s)\n",
    "   statements(s)\n",
    "```"
   ]
  },
  {
   "cell_type": "markdown",
   "metadata": {},
   "source": [
    "#### while 循环嵌套语法"
   ]
  },
  {
   "cell_type": "markdown",
   "metadata": {},
   "source": [
    "```python\n",
    "while expression:\n",
    "   while expression:\n",
    "      statement(s)\n",
    "   statement(s)\n",
    "```"
   ]
  },
  {
   "cell_type": "code",
   "execution_count": null,
   "metadata": {},
   "outputs": [],
   "source": []
  },
  {
   "cell_type": "code",
   "execution_count": 12,
   "metadata": {},
   "outputs": [
    {
     "name": "stdout",
     "output_type": "stream",
     "text": [
      "1x1=1\t\n",
      "2x1=2\t2x2=4\t\n",
      "3x1=3\t3x2=6\t3x3=9\t\n",
      "4x1=4\t4x2=8\t4x3=12\t4x4=16\t\n",
      "5x1=5\t5x2=10\t5x3=15\t5x4=20\t5x5=25\t\n",
      "6x1=6\t6x2=12\t6x3=18\t6x4=24\t6x5=30\t6x6=36\t\n",
      "7x1=7\t7x2=14\t7x3=21\t7x4=28\t7x5=35\t7x6=42\t7x7=49\t\n",
      "8x1=8\t8x2=16\t8x3=24\t8x4=32\t8x5=40\t8x6=48\t8x7=56\t8x8=64\t\n",
      "9x1=9\t9x2=18\t9x3=27\t9x4=36\t9x5=45\t9x6=54\t9x7=63\t9x8=72\t9x9=81\t\n"
     ]
    }
   ],
   "source": [
    "# 打印九九乘法表\n",
    "for i in range(1, 10):\n",
    "        for j in range(1, i+1):\n",
    "            # 打印语句中，大括号及其里面的字符 (称作格式化字段) 将会被 .format() 中的参数替换,注意有个点的\n",
    "            print('{}x{}={}\\t'.format(i, j, i*j), end='')  \n",
    "        print()"
   ]
  },
  {
   "cell_type": "code",
   "execution_count": 13,
   "metadata": {},
   "outputs": [
    {
     "name": "stdout",
     "output_type": "stream",
     "text": [
      "请输入一个年份: 2000\n",
      "2000 是闰年\n"
     ]
    }
   ],
   "source": [
    "# 判断是否是闰年\n",
    "\n",
    "year = int(input(\"请输入一个年份: \"))\n",
    "if (year % 4) == 0 and (year % 100) != 0 or (year % 400) == 0:\n",
    "    print('{0} 是闰年' .format(year))\n",
    "else:\n",
    "     print('{0} 不是闰年' .format(year))"
   ]
  },
  {
   "cell_type": "code",
   "execution_count": null,
   "metadata": {},
   "outputs": [],
   "source": []
  }
 ],
 "metadata": {
  "kernelspec": {
   "display_name": "Python 3",
   "language": "python",
   "name": "python3"
  },
  "language_info": {
   "codemirror_mode": {
    "name": "ipython",
    "version": 3
   },
   "file_extension": ".py",
   "mimetype": "text/x-python",
   "name": "python",
   "nbconvert_exporter": "python",
   "pygments_lexer": "ipython3",
   "version": "3.7.3"
  }
 },
 "nbformat": 4,
 "nbformat_minor": 2
}
