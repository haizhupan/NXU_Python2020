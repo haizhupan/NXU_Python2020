{
 "cells": [
  {
   "cell_type": "markdown",
   "metadata": {},
   "source": [
    "# 函数\n",
    "数就是组织好的，可重复使用的，用来实现单一，或相关联功能的代码段。"
   ]
  },
  {
   "cell_type": "markdown",
   "metadata": {},
   "source": [
    "函数，其实我们一开始学 Python 的时候就接触过。不过我们使用的大多数都是 Python 的内置函数。\n",
    "比如基本每个章节都会出现的 print() 函数。\n",
    "\n",
    "而现在，我们主要学习的是自定义函数。"
   ]
  },
  {
   "cell_type": "markdown",
   "metadata": {},
   "source": [
    "## 定义函数"
   ]
  },
  {
   "cell_type": "markdown",
   "metadata": {},
   "source": [
    "```python\n",
    "def 函数名(参数1，参数2....参数n):\n",
    "    函数体\n",
    "    return 语句\n",
    "```"
   ]
  },
  {
   "cell_type": "markdown",
   "metadata": {},
   "source": [
    "所以自定义函数，基本有以下规则步骤：\n",
    "- 函数代码块以 def 关键词开头，后接函数标识符名称和圆括号()\n",
    "- 任何传入参数和自变量必须放在圆括号中间。圆括号之间可以用于定义参数\n",
    "- 函数的第一行语句可以选择性地使用文档字符串（用于存放函数说明）\n",
    "- 函数内容以冒号起始，并且缩进\n",
    "- return [表达式] 结束函数，选择性地返回一个值给调用方。不带表达式的 return 相当于返回 None。"
   ]
  },
  {
   "cell_type": "markdown",
   "metadata": {},
   "source": [
    "## 函数返回值\n",
    "通过 return [表达式] 语句用于退出函数，选择性地向调用方返回一个表达式"
   ]
  },
  {
   "cell_type": "code",
   "execution_count": 2,
   "metadata": {},
   "outputs": [
    {
     "name": "stdout",
     "output_type": "stream",
     "text": [
      "3\n"
     ]
    }
   ],
   "source": [
    "def sum(num1,num2):\n",
    "    # 两数之和\n",
    "    if not (isinstance (num1,(int ,float)) and isinstance (num2,(int ,float))):\n",
    "        raise TypeError('参数类型错误')\n",
    "    return num1+num2\n",
    "\n",
    "print(sum(1,2))"
   ]
  },
  {
   "cell_type": "markdown",
   "metadata": {},
   "source": [
    "函数也可以返回多个值。\n",
    "一次接受多个返回值的数据类型就是元组。"
   ]
  },
  {
   "cell_type": "code",
   "execution_count": 3,
   "metadata": {},
   "outputs": [
    {
     "name": "stdout",
     "output_type": "stream",
     "text": [
      "2.0 1\n",
      "(2.0, 1)\n"
     ]
    }
   ],
   "source": [
    "def  division ( num1, num2 ):\n",
    "    # 求商与余数\n",
    "    a = num1 % num2\n",
    "    b = (num1-a) / num2\n",
    "    return b , a\n",
    "\n",
    "num1 , num2 = division(9,4)\n",
    "tuple1 = division(9,4)\n",
    "\n",
    "print (num1,num2)\n",
    "print (tuple1)"
   ]
  },
  {
   "cell_type": "markdown",
   "metadata": {},
   "source": [
    "## 函数参数\n",
    "设置与传递参数是函数的重点，而 Python 的函数对参数的支持非常的灵活。\n",
    "\n",
    "主要的参数类型有：默认参数、关键字参数（位置参数）、不定长参数。"
   ]
  },
  {
   "cell_type": "markdown",
   "metadata": {},
   "source": [
    "### 默认参数\n",
    "有时候，我们自定义的函数中，如果调用的时候没有设置参数，需要给个默认值，这时候就需要用到默认值参数了。\n",
    "\n",
    "默认参数，只要在构造函数参数的时候，给参数赋值就可以了。"
   ]
  },
  {
   "cell_type": "code",
   "execution_count": 4,
   "metadata": {},
   "outputs": [
    {
     "name": "stdout",
     "output_type": "stream",
     "text": [
      "昵称：两点水 年龄：18 性别：女\n",
      "昵称：三点水 年龄：25 性别：男\n"
     ]
    }
   ],
   "source": [
    "def print_user_info( name , age , sex = '男' ):\n",
    "    # 打印用户信息\n",
    "    print('昵称：{}'.format(name) , end = ' ')\n",
    "    print('年龄：{}'.format(age) , end = ' ')\n",
    "    print('性别：{}'.format(sex))\n",
    "    return;\n",
    "\n",
    "# 调用 print_user_info 函数\n",
    "\n",
    "print_user_info( '两点水' , 18 , '女')\n",
    "print_user_info( '三点水' , 25 )"
   ]
  },
  {
   "cell_type": "markdown",
   "metadata": {},
   "source": [
    "注意：只有在形参表末尾的那些参数可以有默认参数值，也就是说你不能在声明函数形参的时候，先声明有默认值的形参而后声明没有默认值的形参。\n",
    "\n",
    "例如，def func(a, b=1) 是有效的，但是 def func(a=1,b)是无效的。"
   ]
  },
  {
   "cell_type": "markdown",
   "metadata": {},
   "source": [
    "### 关键字参数（位置参数）\n",
    "一般情况下，我们需要给函数传参的时候，是要按顺序来的，如果不对应顺序，就会传错值。\n",
    "\n",
    "不过在 Python 中，可以通过参数名来给函数传递参数，而不用关心参数列表定义时的顺序，这被称之为关键字参数。"
   ]
  },
  {
   "cell_type": "markdown",
   "metadata": {},
   "source": [
    "使用关键参数有两个优势 ：\n",
    "- 由于我们不必担心参数的顺序，使用函数变得更加简单了。\n",
    "- 假设其他参数都有默认值，我们可以只给我们想要的那些参数赋值"
   ]
  },
  {
   "cell_type": "code",
   "execution_count": 5,
   "metadata": {},
   "outputs": [
    {
     "name": "stdout",
     "output_type": "stream",
     "text": [
      "昵称：两点水 年龄：18 性别：女\n",
      "昵称：两点水 年龄：18 性别：女\n"
     ]
    }
   ],
   "source": [
    "def print_user_info( name ,  age  , sex = '男' ):\n",
    "    # 打印用户信息\n",
    "    print('昵称：{}'.format(name) , end = ' ')\n",
    "    print('年龄：{}'.format(age) , end = ' ')\n",
    "    print('性别：{}'.format(sex))\n",
    "    return;\n",
    "\n",
    "# 调用 print_user_info 函数\n",
    "\n",
    "print_user_info( name = '两点水' ,age = 18 , sex = '女')\n",
    "print_user_info( name = '两点水' ,sex = '女', age = 18 )"
   ]
  },
  {
   "cell_type": "markdown",
   "metadata": {},
   "source": [
    "### 不定长参数\n",
    "或许有些时候，我们在设计函数的时候，我们有时候无法确定传入的参数个数。\n",
    "\n",
    "那么我们就可以使用不定长参数。\n",
    "\n",
    "Python 提供了一种元组的方式来接受没有直接定义的参数。这种方式在参数前边加星号 * 。\n",
    "\n",
    "如果在函数调用时没有指定参数，它就是一个空元组。我们也可以不向函数传递未命名的变量。"
   ]
  },
  {
   "cell_type": "code",
   "execution_count": 6,
   "metadata": {},
   "outputs": [
    {
     "name": "stdout",
     "output_type": "stream",
     "text": [
      "昵称：两点水 年龄：18 性别：女 爱好：('打篮球', '打羽毛球', '跑步')\n"
     ]
    }
   ],
   "source": [
    "def print_user_info( name ,  age  , sex = '男' , * hobby):\n",
    "    # 打印用户信息\n",
    "    print('昵称：{}'.format(name) , end = ' ')\n",
    "    print('年龄：{}'.format(age) , end = ' ')\n",
    "    print('性别：{}'.format(sex) ,end = ' ' )\n",
    "    print('爱好：{}'.format(hobby))\n",
    "    return;\n",
    "\n",
    "# 调用 print_user_info 函数\n",
    "print_user_info( '两点水' ,18 , '女', '打篮球','打羽毛球','跑步')"
   ]
  },
  {
   "cell_type": "markdown",
   "metadata": {},
   "source": [
    "通过输出的结果可以知道，*hobby是可变参数，且 hobby 其实就是一个 tuple （元祖）\n",
    "\n",
    "可变长参数也支持关键字参数（位置参数），没有被定义的关键参数会被放到一个字典里。\n",
    "\n",
    "这种方式即是在参数前边加 **,更改上面的示例如下："
   ]
  },
  {
   "cell_type": "code",
   "execution_count": 7,
   "metadata": {},
   "outputs": [
    {
     "name": "stdout",
     "output_type": "stream",
     "text": [
      "昵称：两点水 年龄：18 性别：女 爱好：{'hobby': ('打篮球', '打羽毛球', '跑步')}\n"
     ]
    }
   ],
   "source": [
    "def print_user_info( name ,  age  , sex = '男' , ** hobby ):\n",
    "    # 打印用户信息\n",
    "    print('昵称：{}'.format(name) , end = ' ')\n",
    "    print('年龄：{}'.format(age) , end = ' ')\n",
    "    print('性别：{}'.format(sex) ,end = ' ' )\n",
    "    print('爱好：{}'.format(hobby))\n",
    "    return;\n",
    "\n",
    "# 调用 print_user_info 函数\n",
    "print_user_info( name = '两点水' , age = 18 , sex = '女', hobby = ('打篮球','打羽毛球','跑步'))"
   ]
  },
  {
   "cell_type": "markdown",
   "metadata": {},
   "source": [
    "通过对比上面的例子和这个例子，可以知道，\\*hobby是可变参数，且 hobby其实就是一个 tuple （元祖），\\**hobby是关键字参数，且 hobby 就是一个 dict （字典）"
   ]
  },
  {
   "cell_type": "markdown",
   "metadata": {},
   "source": [
    "## 函数传值问题"
   ]
  },
  {
   "cell_type": "code",
   "execution_count": 8,
   "metadata": {},
   "outputs": [
    {
     "name": "stdout",
     "output_type": "stream",
     "text": [
      "1\n"
     ]
    }
   ],
   "source": [
    "def chagne_number( b ):\n",
    "    b = 1000\n",
    "\n",
    "b = 1\n",
    "chagne_number(b)\n",
    "print( b )"
   ]
  },
  {
   "attachments": {
    "image.png": {
     "image/png": "[encoded data removed]"
    }
   },
   "cell_type": "markdown",
   "metadata": {},
   "source": [
    "想一下为什么打印的结果是 1 ，而不是 1000 ？\n",
    "\n",
    "其实把问题归根结底就是，为什么通过函数 chagne_number 没有更改到 b 的值？\n",
    "\n",
    "这个问题很多编程语言都会讲到，原理解释也是差不多的。\n",
    "\n",
    "这里主要是函数参数的传递中，传递的是类型对象，之前也介绍了 Python 中基本的数据类型等。而这些类型对象可以分为可更改类型和不可更改的类型\n",
    "\n",
    "在 Python 中，字符串，整形，浮点型，tuple 是不可更改的对象，而 list ， dict 等是可以更改的对象。\n",
    "\n",
    "例如：\n",
    "\n",
    "**不可更改的类型**：变量赋值 a = 1，其实就是生成一个整形对象 1 ，然后变量 a 指向 1，当 a = 1000 其实就是再生成一个整形对象 1000，然后改变 a 的指向，不再指向整形对象 1 ，而是指向 1000，最后 1 会被丢弃\n",
    "\n",
    "**可更改的类型**：变量赋值 a = [1,2,3,4,5,6] ，就是生成一个对象 list ，list 里面有 6 个元素，而变量 a 指向 list ，a[2] = 5则是将 list a 的第三个元素值更改,这里跟上面是不同的，并不是将 a 重新指向，而是直接修改 list 中的元素值。\n",
    "![image.png](attachment:image.png)"
   ]
  },
  {
   "cell_type": "markdown",
   "metadata": {},
   "source": [
    "这也将影响到函数中参数的传递了：\n",
    "\n",
    "不可更改的类型：类似 c++ 的值传递，如 整数、字符串、元组。如fun（a），传递的只是 a 的值，没有影响 a 对象本身。比如在 fun（a）内部修改 a 的值，只是修改另一个复制的对象，不会影响 a 本身。\n",
    "\n",
    "可更改的类型：类似 c++ 的引用传递，如 列表，字典。如 fun（a），则是将 a 真正的传过去，修改后 fun 外部的 a 也会受影响\n",
    "\n",
    "因此，在一开始的例子中，b = 1,创建了一个整形对象 1 ，变量 b 指向了这个对象，然后通过函数 chagne_number 时，按传值的方式复制了变量 b ，传递的只是 b 的值，并没有影响到 b 的本身。具体可以看下修改后的实例，通过打印的结果更好的理解。"
   ]
  },
  {
   "cell_type": "code",
   "execution_count": 9,
   "metadata": {},
   "outputs": [
    {
     "name": "stdout",
     "output_type": "stream",
     "text": [
      "函数中一开始 b 的值：1\n",
      "函数中 b 赋值后的值：1000\n",
      "最后输出 b 的值：1\n"
     ]
    }
   ],
   "source": [
    "def chagne_number( b ):\n",
    "    print('函数中一开始 b 的值：{}' .format( b ) )\n",
    "    b = 1000\n",
    "    print('函数中 b 赋值后的值：{}' .format( b ) )\n",
    "\n",
    "\n",
    "b = 1\n",
    "chagne_number( b )\n",
    "print( '最后输出 b 的值：{}' .format( b )  )"
   ]
  },
  {
   "cell_type": "markdown",
   "metadata": {},
   "source": [
    "当然，如果参数中的是可更改的类型，那么调用了这个函数后，原来的值也会被更改，具体实例如下："
   ]
  },
  {
   "cell_type": "code",
   "execution_count": 11,
   "metadata": {},
   "outputs": [
    {
     "name": "stdout",
     "output_type": "stream",
     "text": [
      "函数中一开始 b 的值：[1, 2, 3, 4, 5]\n",
      "函数中 b 赋值后的值：[1, 2, 3, 4, 5, 1000]\n",
      "最后输出 b 的值：[1, 2, 3, 4, 5, 1000]\n"
     ]
    }
   ],
   "source": [
    "def chagne_list( b ):\n",
    "    print('函数中一开始 b 的值：{}' .format( b ) )\n",
    "    b.append(1000)\n",
    "    print('函数中 b 赋值后的值：{}' .format( b ) )\n",
    "\n",
    "b = [1,2,3,4,5]\n",
    "chagne_list( b )\n",
    "print( '最后输出 b 的值：{}' .format( b )  )"
   ]
  },
  {
   "cell_type": "markdown",
   "metadata": {},
   "source": [
    "## 匿名函数\n",
    "有没有想过定义一个很短的回调函数，但又不想用 def 的形式去写一个那么长的函数，那么有没有快捷方式呢？\n",
    "\n",
    "答案是有的。\n",
    "\n",
    "python 使用 lambda 来创建匿名函数，也就是不再使用 def 语句这样标准的形式定义一个函数。\n",
    "\n",
    "匿名函数主要有以下特点：\n",
    "- lambda 只是一个表达式，函数体比 def 简单很多。\n",
    "- lambda 的主体是一个表达式，而不是一个代码块。仅仅能在 lambda 表达式中封装有限的逻辑进去。\n",
    "- lambda 函数拥有自己的命名空间，且不能访问自有参数列表之外或全局命名空间里的参数。"
   ]
  },
  {
   "cell_type": "markdown",
   "metadata": {},
   "source": [
    "基本语句\n",
    "```python\n",
    "lambda [arg1 [,arg2,.....argn]]:expression\n",
    "```"
   ]
  },
  {
   "cell_type": "code",
   "execution_count": 12,
   "metadata": {},
   "outputs": [
    {
     "name": "stdout",
     "output_type": "stream",
     "text": [
      "3\n"
     ]
    }
   ],
   "source": [
    "sum = lambda num1 , num2 : num1 + num2;\n",
    "\n",
    "print( sum( 1 , 2 ) )"
   ]
  },
  {
   "cell_type": "markdown",
   "metadata": {},
   "source": [
    "注意：**尽管 lambda 表达式允许你定义简单函数，但是它的使用是有限制的。 你只能指定单个表达式，它的值就是最后的返回值。也就是说不能包含其他的语言特性了， 包括多个语句、条件表达式、迭代以及异常处理等等。**\n",
    "\n",
    "匿名函数中，有一个特别需要注意的问题，比如，把上面的例子改一下："
   ]
  },
  {
   "cell_type": "code",
   "execution_count": 14,
   "metadata": {},
   "outputs": [
    {
     "name": "stdout",
     "output_type": "stream",
     "text": [
      "10001\n",
      "10001\n"
     ]
    }
   ],
   "source": [
    "num2 = 100\n",
    "sum1 = lambda num1 : num1 + num2 ;\n",
    "\n",
    "num2 = 10000\n",
    "sum2 = lambda num1 : num1 + num2 ;\n",
    "\n",
    "print(sum1( 1 ))\n",
    "print(sum2( 1 ))"
   ]
  },
  {
   "cell_type": "markdown",
   "metadata": {},
   "source": [
    "**这主要在于 lambda 表达式中的 num2 是一个自由变量，在运行时绑定值，而不是定义时就绑定，这跟函数的默认值参数定义是不同的。所以建议还是遇到这种情况还是使用第一种解法。**"
   ]
  },
  {
   "cell_type": "code",
   "execution_count": null,
   "metadata": {},
   "outputs": [],
   "source": []
  }
 ],
 "metadata": {
  "kernelspec": {
   "display_name": "Python 3",
   "language": "python",
   "name": "python3"
  },
  "language_info": {
   "codemirror_mode": {
    "name": "ipython",
    "version": 3
   },
   "file_extension": ".py",
   "mimetype": "text/x-python",
   "name": "python",
   "nbconvert_exporter": "python",
   "pygments_lexer": "ipython3",
   "version": "3.7.3"
  }
 },
 "nbformat": 4,
 "nbformat_minor": 2
}
